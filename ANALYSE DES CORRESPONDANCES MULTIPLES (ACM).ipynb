{
 "cells": [
  {
   "cell_type": "code",
   "execution_count": 2,
   "id": "57a48bcc",
   "metadata": {},
   "outputs": [],
   "source": [
    "# Pour gerer et manipuler les structures de données multidimentionnels\n",
    "import pandas as pd  \n",
    "\n",
    "# Pour gerer les calculs matriciels\n",
    "import numpy as np  \n",
    "\n",
    "# Pour visualiser les données\n",
    "import matplotlib.pyplot as plt \n",
    "from fanalysis.mca import MCA\n",
    "\n",
    "#mt est une instance de la classe math\n",
    "import math as mt \n"
   ]
  },
  {
   "cell_type": "code",
   "execution_count": null,
   "id": "cd6a8709",
   "metadata": {},
   "outputs": [],
   "source": [
    "data = pd.read_excel(r'C:/Users/DELL/Documents/Data_Methodes_Factorielles.xlsx',sheet_name=\"ACM_CANINES\",index_col=0)\n",
    "print(data)"
   ]
  },
  {
   "cell_type": "code",
   "execution_count": null,
   "id": "0cdc4d80",
   "metadata": {},
   "outputs": [],
   "source": [
    "DActives = [x for x in data.columns if data[x].dtype == 'object']\n",
    "# On récupere les colonnes du dataSet.\n",
    "variable = data[DActives]\n",
    "print(variable)\n",
    "# Le nombre des individus\n",
    "n = variable.shape[0]\n",
    "# Le nombre des variables\n",
    "p = variable.shape[1]\n",
    "print(\"le nombre des individus :\",n)\n",
    "print(\"le nombre des variables :\",p)\n",
    "# pd.get_dummies() est utilisé pour la manipulation des données. Il convertit les données catégorielles en variables \n",
    "# fictives ou indicatrices.  \n",
    "# Construire le tableau disjonctif complet\n",
    "TDC = pd.get_dummies(variable,prefix='',prefix_sep='')\n",
    "print(TDC)\n",
    " # Le nombre total de modalité\n",
    "M = TDC.shape[1]\n",
    "print(\"Le nombre total de modalité\",M)\n",
    "#instanciation de la méthode mca qu'est disponible dans fanalysis\n",
    "acm = MCA(row_labels=TDC.index,var_labels=TDC.columns) \n",
    "x=acm.fit(TDC.values)  \n",
    "# nombre max de facteur (pour savoir la dimension de nouvelle espace)\n",
    "#le nombre de facteurs extraits ne doit pas dépasser le nombre d'individus moins le nombre de variables. Cela garantit que vous ne créez pas plus de facteurs que le nombre d'observations que vous avez dans votre jeu de données\n",
    "Hmax = M - p  \n",
    "print(\"nombre max de facteur\",Hmax)\n",
    "# Détérmination des valeurs propres \n",
    "valeur_propre = pd.DataFrame(np.transpose(acm.eig_),columns = ['valeur propre','%','cumul %'])\n",
    "print(\"les val propres :\")\n",
    "print(valeur_propre)"
   ]
  },
  {
   "cell_type": "code",
   "execution_count": null,
   "id": "a4492968",
   "metadata": {},
   "outputs": [],
   "source": [
    "# Eboulis des valeurs propres pour savoir les valeurs propres qui porte plus informations\n",
    "#Son rôle est de vous aider à déterminer combien de composantes principales (ou facteurs) vous devez retenir pour réduire la dimensionnalité de vos données.\n",
    "fix , ax = plt.subplots(figsize=(5,5)) \n",
    "ax.plot(range(0,len(valeur_propre)),acm.eig_[0],\".-\")  \n",
    "ax.set_xlabel(\"nombre de facteurs\")\n",
    "ax.set_ylabel(\"valeur propre\")\n",
    "plt.title(\"Eboulis des valeus propres\")\n",
    "#seuil - Règle de kaiser\n",
    "print(p)\n",
    "ax.plot([1,Hmax],[1/p,1/p],\"r-\",linewidth=1) \n",
    "plt.show()\n",
    "\n",
    "# Séléction les valeurs propres qui porte plus informations\n",
    "valeur_qui_porte_plus_information = [acm.eig_[0][0] , acm.eig_[0][1]]\n",
    "print(\"les valeurs propres qui portent plus d'information\")\n",
    "print(valeur_qui_porte_plus_information)\n",
    " # Affichage les coordonnes des facteurs.\n",
    "data_facteur = pd.DataFrame(acm.col_coord_[0:len(TDC.columns),:2],columns=['F1','F2'],index=TDC.columns) \n",
    "data_facteurrow=pd.DataFrame(acm.row_coord_[:,:2],index=TDC.index,columns=['Coord.F1','Coord.F2'])\n",
    "print(data_facteur)\n",
    "print(data_facteurrow)\n",
    "    # Pour détermine l'échelle correspondant \n",
    "maxii_F1 = max(list(data_facteur['F1'])) #pour recuperer la valeur maximale dans la 1ere facteur F1\n",
    "minii_F1 = min(list(data_facteur['F1']))  #pour recuperer la valeur minimale dans la 1ere facteur F1\n",
    "maxii_F2 = max(list(data_facteur['F2']))  #pour recuperer la valeur maximale dans le 2eme facteur F2\n",
    "minii_F2 = min(list(data_facteur['F2']))  #pour recuperer la valeur minimale dans le 2eme facteur F2\n",
    "\n",
    "if (maxii_F1>0):\n",
    "        maxi_F1 = mt.floor(maxii_F1)+1\n",
    "else:\n",
    "        maxi_F1 = mt.floor(maxii_F1)\n",
    "\n",
    "if (minii_F1<0): \n",
    "        mini_F1 = mt.floor(minii_F1)\n",
    "else:\n",
    "        mini_F1 =mt.floor(minii_F1)-1\n",
    "\n",
    "if (maxii_F2>0): \n",
    "        maxi_F2 = mt.floor(maxii_F2)+1\n",
    "else:\n",
    "        maxi_F2 = mt.floor(maxii_F2)\n",
    "\n",
    "if (minii_F2<0): \n",
    "        mini_F2 = mt.floor(minii_F2)\n",
    "else:\n",
    "        mini_F2 =mt.floor(minii_F2)-1\n",
    "        \n",
    "        \n"
   ]
  },
  {
   "cell_type": "code",
   "execution_count": null,
   "id": "ca465ca6",
   "metadata": {},
   "outputs": [],
   "source": [
    "# Projection des modalités sur le nouveau plan\n",
    "fix , ax = plt.subplots(figsize=(7,7))  \n",
    "ax.axis([mini_F1,maxi_F1,mini_F2,maxi_F2])\n",
    "ax.plot([mini_F1,maxi_F1],[0,0],color='red',linestyle='--')\n",
    "ax.plot([0,0],[mini_F2,maxi_F2],color='red',linestyle='--')\n",
    "ax.set_xlabel(\"Dim.1 \")\n",
    "ax.set_ylabel(\"Dim.2\")\n",
    "plt.title(\"Représentation des points-modalité\")\n",
    "for i in range(TDC.shape[1]):\n",
    "        ax.text(acm.col_coord_[i,0],acm.col_coord_[i,1],TDC.columns[i],color='black')  \n",
    "plt.show()\n"
   ]
  },
  {
   "cell_type": "code",
   "execution_count": null,
   "id": "a14266ec",
   "metadata": {},
   "outputs": [],
   "source": [
    "# Projection des individus \n",
    "fix , ax = plt.subplots(figsize=(7,7))  \n",
    "ax.axis([mini_F1,maxi_F1,mini_F2,maxi_F2])   \n",
    "ax.plot([mini_F1,maxi_F1],[0,0],color='silver',linestyle='--')\n",
    "ax.plot([0,0],[mini_F2,maxi_F2],color='silver',linestyle='--')\n",
    "ax.set_xlabel(\"Dim1\")\n",
    "ax.set_ylabel(\"Dim2\")\n",
    "plt.title(\"Representation des individus\")\n",
    "for i in range(TDC.shape[0]):\n",
    "    ax.text(acm.row_coord_[i,0],acm.row_coord_[i,1],TDC.index[i],color='red')   \n",
    "plt.show()\n",
    "    \n",
    "   "
   ]
  },
  {
   "cell_type": "code",
   "execution_count": null,
   "id": "b4f73ddf",
   "metadata": {},
   "outputs": [],
   "source": [
    " \n",
    "# Projection les individus et les modalité \n",
    "fix , ax = plt.subplots(figsize=(10,10))  #pour traver le cadre de representation\n",
    "ax.plot([mini_F1,maxi_F1],[0,0],color='silver',linestyle='--')\n",
    "ax.plot([0,0],[mini_F2,maxi_F2],color='silver',linestyle='--')\n",
    "ax.set_xlabel(\"Dim1\")\n",
    "ax.set_ylabel(\"Dim2\")\n",
    "plt.title(\"Representation des individus et des modalité\")\n",
    "for i in range(TDC.shape[1]):\n",
    "        ax.text(acm.col_coord_[i,0],acm.col_coord_[i,1],TDC.columns[i],color='black') \n",
    "for j in range(TDC.shape[0]): \n",
    "        ax.text(acm.row_coord_[j,0],acm.row_coord_[j,1],TDC.index[j],color='red') \n",
    "plt.show()"
   ]
  },
  {
   "cell_type": "code",
   "execution_count": null,
   "id": "9444cbe0",
   "metadata": {},
   "outputs": [],
   "source": []
  },
  {
   "cell_type": "code",
   "execution_count": null,
   "id": "4a222f41",
   "metadata": {},
   "outputs": [],
   "source": []
  },
  {
   "cell_type": "code",
   "execution_count": null,
   "id": "71660ca4",
   "metadata": {},
   "outputs": [],
   "source": []
  },
  {
   "cell_type": "code",
   "execution_count": null,
   "id": "aace3361",
   "metadata": {},
   "outputs": [],
   "source": []
  },
  {
   "cell_type": "code",
   "execution_count": null,
   "id": "58542f52",
   "metadata": {},
   "outputs": [],
   "source": []
  },
  {
   "cell_type": "code",
   "execution_count": null,
   "id": "599d5233",
   "metadata": {},
   "outputs": [],
   "source": []
  },
  {
   "cell_type": "code",
   "execution_count": null,
   "id": "6450316f",
   "metadata": {},
   "outputs": [],
   "source": []
  }
 ],
 "metadata": {
  "kernelspec": {
   "display_name": "Python 3 (ipykernel)",
   "language": "python",
   "name": "python3"
  },
  "language_info": {
   "codemirror_mode": {
    "name": "ipython",
    "version": 3
   },
   "file_extension": ".py",
   "mimetype": "text/x-python",
   "name": "python",
   "nbconvert_exporter": "python",
   "pygments_lexer": "ipython3",
   "version": "3.11.5"
  }
 },
 "nbformat": 4,
 "nbformat_minor": 5
}
