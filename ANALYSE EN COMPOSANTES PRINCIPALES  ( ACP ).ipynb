{
 "cells": [
  {
   "cell_type": "code",
   "execution_count": 1,
   "id": "dac647d9",
   "metadata": {},
   "outputs": [
    {
     "name": "stdout",
     "output_type": "stream",
     "text": [
      "            RO  Crypto   UML  PLSQL\n",
      "Etudiant                           \n",
      "Aymane    12.0    10.0  12.5   13.0\n",
      "Adham     14.0    13.0  11.0   10.0\n",
      "Ziyad     10.0    10.0  14.0   15.0\n",
      "Youssef   12.0    13.0  15.5   16.0\n",
      "Amina     14.5    14.5  15.0   15.0\n",
      "Manal     11.0    10.0   8.0    7.0\n",
      "Akram      7.0     8.0   8.0    8.5\n",
      "Karim      6.0     7.0  14.0   13.5\n",
      "Jihan     14.0    14.5  14.5   14.0\n"
     ]
    }
   ],
   "source": [
    "import numpy as np \n",
    "import pandas as pd\n",
    "\n",
    "# tableau des données\n",
    "data = pd.read_csv(\"notes.csv\", header=0).set_index(\"Etudiant\")\n",
    "print(data)\n",
    "\n",
    "X = data.values\n"
   ]
  },
  {
   "cell_type": "markdown",
   "id": "be78163e",
   "metadata": {},
   "source": [
    " #  Tableau des données centrées réduites\n",
    " "
   ]
  },
  {
   "cell_type": "code",
   "execution_count": 2,
   "id": "fd32e591",
   "metadata": {},
   "outputs": [
    {
     "name": "stdout",
     "output_type": "stream",
     "text": [
      "                RO    Crypto       UML     PLSQL\n",
      "Etudiant                                        \n",
      "Aymane    0.290619 -0.428944  0.000000  0.185504\n",
      "Adham     0.988105  0.729204 -0.551825 -0.816216\n",
      "Ziyad    -0.406867 -0.428944  0.551825  0.853316\n",
      "Youssef   0.290619  0.729204  1.103651  1.187223\n",
      "Amina     1.162476  1.308278  0.919709  0.853316\n",
      "Manal    -0.058124 -0.428944 -1.655476 -1.817935\n",
      "Akram    -1.453095 -1.201042 -1.655476 -1.317075\n",
      "Karim    -1.801838 -1.587091  0.551825  0.352457\n",
      "Jihan     0.988105  1.308278  0.735767  0.519410\n"
     ]
    }
   ],
   "source": [
    "import numpy as np\n",
    "Xmean = np.mean(data, axis=0)\n",
    "\n",
    "# Soustraire la moyenne de chaque colonne à chaque valeur : centrer les valeurs\n",
    "Xc = data-Xmean\n",
    "Xstd = np.std(data, axis=0)\n",
    "# Divisé les valeurs de la dataframe par l'écart-type de chaque colonne\n",
    "Xcr = Xc/Xstd\n",
    "print(Xcr)"
   ]
  },
  {
   "cell_type": "markdown",
   "id": "528f6e82",
   "metadata": {},
   "source": [
    "# Matrice de corrélation"
   ]
  },
  {
   "cell_type": "code",
   "execution_count": 3,
   "id": "3cee760a",
   "metadata": {},
   "outputs": [
    {
     "name": "stdout",
     "output_type": "stream",
     "text": [
      "              RO    Crypto       UML     PLSQL\n",
      "RO      1.000000  0.936191  0.317178  0.237208\n",
      "Crypto  0.936191  1.000000  0.461569  0.380347\n",
      "UML     0.317178  0.461569  1.000000  0.975885\n",
      "PLSQL   0.237208  0.380347  0.975885  1.000000\n"
     ]
    }
   ],
   "source": [
    "import pandas as pd\n",
    "\n",
    "# Si les données centrées réduites on calcule\n",
    "# Matrice de correlations\n",
    "matrice_correlation = pd.DataFrame(Xcr, columns=data.columns, index=data.index).corr()\n",
    "print(matrice_correlation)\n",
    "X_cor = matrice_correlation.values"
   ]
  },
  {
   "cell_type": "markdown",
   "id": "168294a0",
   "metadata": {},
   "source": [
    "# Calcul vecteur propre et valeur propre"
   ]
  },
  {
   "cell_type": "code",
   "execution_count": 4,
   "id": "24797333",
   "metadata": {},
   "outputs": [
    {
     "name": "stdout",
     "output_type": "stream",
     "text": [
      "[2.65976874 1.26859228 0.05172443 0.01991454]\n",
      "----------------------------\n",
      "[[-0.46323697 -0.56514438 -0.68187717 -0.0326628 ]\n",
      " [-0.51945594 -0.44860001  0.71967642  0.10483036]\n",
      " [-0.52253784  0.45567925  0.01183347 -0.72053494]\n",
      " [-0.49247461  0.52127371 -0.13026643  0.6846701 ]]\n"
     ]
    }
   ],
   "source": [
    "from numpy import linalg as LA\n",
    "\n",
    "# Calcul des vecteurs et valeurs propres de la matrice de covariance \n",
    "valeurs_propres, vecteurs_propres = LA.eig(X_cor)\n",
    "print(valeurs_propres)\n",
    "print(\"----------------------------\")\n",
    "print(vecteurs_propres)"
   ]
  },
  {
   "cell_type": "code",
   "execution_count": 10,
   "id": "78a48940",
   "metadata": {},
   "outputs": [
    {
     "name": "stdout",
     "output_type": "stream",
     "text": [
      "[66.49421854 31.71480707  1.29311081  0.49786358]\n"
     ]
    }
   ],
   "source": [
    "# Calcul de l'information récupéré en pourcentage\n",
    "info_recupere  = (valeurs_propres / sum(valeurs_propres) * 100)\n",
    "print(info_recupere)"
   ]
  },
  {
   "cell_type": "markdown",
   "id": "6ab2ea8a",
   "metadata": {},
   "source": [
    "# EBOULIS DES VALEURS PROPRES"
   ]
  },
  {
   "cell_type": "code",
   "execution_count": 11,
   "id": "8a1c2813",
   "metadata": {},
   "outputs": [
    {
     "data": {
      "image/png": "[encoded data removed]",
      "text/plain": [
       "<Figure size 432x288 with 1 Axes>"
      ]
     },
     "metadata": {
      "needs_background": "light"
     },
     "output_type": "display_data"
    }
   ],
   "source": [
    "#éboulis des valeurs propres\n",
    "\n",
    "import matplotlib.pyplot as plt \n",
    "\n",
    "plt.bar(np.arange(1,data.shape[1]+1),valeurs_propres)        \n",
    "plt.plot(np.arange(1,data.shape[1]+1),valeurs_propres, 'g*-')\n",
    "axes = plt.gca()\n",
    "axes.xaxis.set_ticks(np.arange(1,data.shape[1]+1)) \n",
    "plt.title(\"Eboulis des valeurs propres\")\n",
    "plt.ylabel(\"Valeur propre\")\n",
    "plt.xlabel(\"Numéro de l'axe principal\")\n",
    "\n",
    "plt.show()"
   ]
  },
  {
   "cell_type": "code",
   "execution_count": 12,
   "id": "dc244f8a",
   "metadata": {},
   "outputs": [
    {
     "data": {
      "image/png": "[encoded data removed]",
      "text/plain": [
       "<Figure size 432x288 with 1 Axes>"
      ]
     },
     "metadata": {
      "needs_background": "light"
     },
     "output_type": "display_data"
    }
   ],
   "source": [
    "plt.figure(3)\n",
    "plt.clf()\n",
    "plt.bar(np.arange(1,data.shape[1]+1),np.cumsum(info_recupere))\n",
    "plt.plot(np.arange(1,data.shape[1]+1),np.cumsum(info_recupere), 'ro-')\n",
    "axes = plt.gca()\n",
    "axes.xaxis.set_ticks(np.arange(1,data.shape[1]+1)) \n",
    "plt.title(\"Variance expliquée vs numéro de l'axe principal\")\n",
    "plt.ylabel(\"Cumul de variance expliquée\")\n",
    "plt.xlabel(\"Numéro de l'axe principal\")\n",
    "plt.show()"
   ]
  },
  {
   "cell_type": "markdown",
   "id": "97bbe8ae",
   "metadata": {},
   "source": [
    "# COMPOSANTES PRINCIPALES"
   ]
  },
  {
   "cell_type": "code",
   "execution_count": 13,
   "id": "c9f8e0fa",
   "metadata": {},
   "outputs": [
    {
     "name": "stdout",
     "output_type": "stream",
     "text": [
      "[[-0.46323697 -0.56514438]\n",
      " [-0.51945594 -0.44860001]\n",
      " [-0.52253784  0.45567925]\n",
      " [-0.49247461  0.52127371]]\n",
      "------------------------------------\n",
      "66.49421853683971\n",
      "31.714807073898687\n"
     ]
    }
   ],
   "source": [
    "composants_principaux = vecteurs_propres[:,0:2]\n",
    "print(composants_principaux)\n",
    "\n",
    "# Calcul de l'information récupéré en pourcentage\n",
    "axe1_info = info_recupere[0]\n",
    "axe2_info = info_recupere[1]\n",
    "print(\"------------------------------------\")\n",
    "# axe1_info est la part d’inertie expliquée par le 1er axe factoriel (ou 1ère composante)\n",
    "print(axe1_info)\n",
    "print(axe2_info)"
   ]
  },
  {
   "cell_type": "markdown",
   "id": "613406fb",
   "metadata": {},
   "source": [
    "# Représentation des individus "
   ]
  },
  {
   "cell_type": "code",
   "execution_count": 14,
   "id": "4b71e01a",
   "metadata": {},
   "outputs": [
    {
     "name": "stdout",
     "output_type": "stream",
     "text": [
      "                 0         1\n",
      "Etudiant                    \n",
      "Aymane   -0.003164  0.124880\n",
      "Adham    -0.146201 -1.562470\n",
      "Ziyad    -0.297293  1.118629\n",
      "Youssef  -1.674791  0.630416\n",
      "Amina    -2.118914 -0.379957\n",
      "Manal     2.010078 -1.476735\n",
      "Akram     2.810691 -0.080926\n",
      "Karim     1.197177  2.165450\n",
      "Jihan    -1.777582 -0.539287\n"
     ]
    },
    {
     "data": {
      "image/png": "[encoded data removed]",
      "text/plain": [
       "<Figure size 504x432 with 1 Axes>"
      ]
     },
     "metadata": {
      "needs_background": "light"
     },
     "output_type": "display_data"
    }
   ],
   "source": [
    "figure = plt.figure(figsize=(7,6)) # définir une figure de taille\n",
    "\n",
    "\n",
    "\n",
    "Newdata = Xcr.dot(composants_principaux)\n",
    "print(Newdata)\n",
    "Newdata.columns = [\"axe1\", \"axe2\"]\n",
    "\n",
    "\n",
    "\n",
    "#placement des étiquettes des observations\n",
    "for i in range(data.shape[0]):\n",
    "    plt.scatter(Newdata.values[i,0],Newdata.values[i,1])\n",
    "    plt.annotate(data.index[i],(Newdata.values[i,0],Newdata.values[i,1]))\n",
    "\n",
    "#ajouter les axes\n",
    "font1 = {'family':'serif','color':'blue','size':20}\n",
    "font2 = {'family':'serif','color':'red','size':15}\n",
    "\n",
    "plt.title(\"Représentation des individus\", fontdict = font1)\n",
    "plt.xlabel(\"axe p.1\", fontdict = font2)\n",
    "plt.ylabel(\"axe p.2\", fontdict = font2)\n",
    "\n",
    "#affichage\n",
    "plt.show()"
   ]
  },
  {
   "cell_type": "markdown",
   "id": "23e6804c",
   "metadata": {},
   "source": [
    "# QUALITE DE REPRESENTATION\n",
    "\n",
    "Pour calculer la qualité de représentation des individus sur les axes, nous devons d’abord calculer les carrés des distances à l’origine des individus, qui correspondent également à leur contribution dans l’inertie totale\n",
    "\n",
    "𝑑2𝑖=∑𝑝𝑗=1𝑧2𝑖𝑗"
   ]
  },
  {
   "cell_type": "code",
   "execution_count": 15,
   "id": "f9322453",
   "metadata": {},
   "outputs": [
    {
     "name": "stdout",
     "output_type": "stream",
     "text": [
      "Etudiant\n",
      "Aymane     0.302864\n",
      "Adham      2.478809\n",
      "Ziyad      1.382193\n",
      "Youssef    3.243741\n",
      "Amina      4.636956\n",
      "Manal      6.232859\n",
      "Akram      8.029277\n",
      "Karim      6.194218\n",
      "Jihan      3.499083\n",
      "dtype: float64\n"
     ]
    }
   ],
   "source": [
    "# QUALITE \n",
    "di = np.sum(Xcr**2,axis=1) \n",
    "print(di)\n"
   ]
  },
  {
   "cell_type": "code",
   "execution_count": 16,
   "id": "6ddb6cc6",
   "metadata": {},
   "outputs": [
    {
     "name": "stdout",
     "output_type": "stream",
     "text": [
      "[[1.00107452e-05 1.55951356e-02]\n",
      " [2.13747561e-02 2.44131266e+00]\n",
      " [8.83832583e-02 1.25133149e+00]\n",
      " [2.80492578e+00 3.97424286e-01]\n",
      " [4.48979746e+00 1.44367262e-01]\n",
      " [4.04041376e+00 2.18074693e+00]\n",
      " [7.89998424e+00 6.54909785e-03]\n",
      " [1.43323181e+00 4.68917327e+00]\n",
      " [3.15979759e+00 2.90830406e-01]]\n"
     ]
    }
   ],
   "source": [
    "cos2 = Newdata.values**2\n",
    "print(cos2)"
   ]
  },
  {
   "cell_type": "code",
   "execution_count": 17,
   "id": "3defe26b",
   "metadata": {},
   "outputs": [
    {
     "data": {
      "text/html": [
       "<div>\n",
       "<style scoped>\n",
       "    .dataframe tbody tr th:only-of-type {\n",
       "        vertical-align: middle;\n",
       "    }\n",
       "\n",
       "    .dataframe tbody tr th {\n",
       "        vertical-align: top;\n",
       "    }\n",
       "\n",
       "    .dataframe thead th {\n",
       "        text-align: right;\n",
       "    }\n",
       "</style>\n",
       "<table border=\"1\" class=\"dataframe\">\n",
       "  <thead>\n",
       "    <tr style=\"text-align: right;\">\n",
       "      <th></th>\n",
       "      <th>COS2_1</th>\n",
       "      <th>COS2_2</th>\n",
       "    </tr>\n",
       "    <tr>\n",
       "      <th>Etudiant</th>\n",
       "      <th></th>\n",
       "      <th></th>\n",
       "    </tr>\n",
       "  </thead>\n",
       "  <tbody>\n",
       "    <tr>\n",
       "      <th>Aymane</th>\n",
       "      <td>0.000109</td>\n",
       "      <td>0.170018</td>\n",
       "    </tr>\n",
       "    <tr>\n",
       "      <th>Adham</th>\n",
       "      <td>0.003479</td>\n",
       "      <td>0.397317</td>\n",
       "    </tr>\n",
       "    <tr>\n",
       "      <th>Ziyad</th>\n",
       "      <td>0.046263</td>\n",
       "      <td>0.654990</td>\n",
       "    </tr>\n",
       "    <tr>\n",
       "      <th>Youssef</th>\n",
       "      <td>0.266581</td>\n",
       "      <td>0.037771</td>\n",
       "    </tr>\n",
       "    <tr>\n",
       "      <th>Amina</th>\n",
       "      <td>0.208815</td>\n",
       "      <td>0.006714</td>\n",
       "    </tr>\n",
       "    <tr>\n",
       "      <th>Manal</th>\n",
       "      <td>0.104004</td>\n",
       "      <td>0.056135</td>\n",
       "    </tr>\n",
       "    <tr>\n",
       "      <th>Akram</th>\n",
       "      <td>0.122539</td>\n",
       "      <td>0.000102</td>\n",
       "    </tr>\n",
       "    <tr>\n",
       "      <th>Karim</th>\n",
       "      <td>0.037355</td>\n",
       "      <td>0.122215</td>\n",
       "    </tr>\n",
       "    <tr>\n",
       "      <th>Jihan</th>\n",
       "      <td>0.258078</td>\n",
       "      <td>0.023754</td>\n",
       "    </tr>\n",
       "  </tbody>\n",
       "</table>\n",
       "</div>"
      ],
      "text/plain": [
       "            COS2_1    COS2_2\n",
       "Etudiant                    \n",
       "Aymane    0.000109  0.170018\n",
       "Adham     0.003479  0.397317\n",
       "Ziyad     0.046263  0.654990\n",
       "Youssef   0.266581  0.037771\n",
       "Amina     0.208815  0.006714\n",
       "Manal     0.104004  0.056135\n",
       "Akram     0.122539  0.000102\n",
       "Karim     0.037355  0.122215\n",
       "Jihan     0.258078  0.023754"
      ]
     },
     "execution_count": 17,
     "metadata": {},
     "output_type": "execute_result"
    }
   ],
   "source": [
    "cos2 = Newdata.values**2\n",
    "di2=di**2\n",
    "for j in range(Newdata.shape[1]):\n",
    "    cos2[:,j] = cos2[:,j]/di2\n",
    "pd.DataFrame({'COS2_1':cos2[:,0],'COS2_2':cos2[:,1]}, index=data.index)"
   ]
  },
  {
   "cell_type": "markdown",
   "id": "5b6a9a97",
   "metadata": {},
   "source": [
    "# CERCLE DE CORRELATION"
   ]
  },
  {
   "cell_type": "code",
   "execution_count": 18,
   "id": "8045f6e1",
   "metadata": {},
   "outputs": [
    {
     "data": {
      "image/png": "[encoded data removed]",
      "text/plain": [
       "<Figure size 360x360 with 1 Axes>"
      ]
     },
     "metadata": {
      "needs_background": "light"
     },
     "output_type": "display_data"
    }
   ],
   "source": [
    "import matplotlib.pyplot as plt\n",
    "\n",
    "# ... Votre code précédent ...\n",
    "\n",
    "# Obtenez les noms des variables à partir de votre DataFrame data\n",
    "labels = data.columns\n",
    "\n",
    "# Sous-figure pour le cercle de corrélation (à gauche)\n",
    "plt.subplots(figsize=(5, 5))\n",
    "\n",
    "# Tracer un cercle unitaire\n",
    "circle = plt.Circle((0, 0), 1, fill=False, color='black', linestyle='dotted')\n",
    "plt.gca().add_patch(circle)\n",
    "\n",
    "# Tracer les vecteurs propres (composantes principales) avec les noms des variables\n",
    "for i in range(len(composants_principaux)):\n",
    "    x, y = composants_principaux[i, 0], composants_principaux[i, 1]\n",
    "    plt.quiver(0, 0, x, y, angles='xy', scale_units='xy', scale=1, color='b')\n",
    "    plt.text(x, y, labels[i], fontsize=12)\n",
    "\n",
    "# ... Le reste de votre code ...\n"
   ]
  },
  {
   "cell_type": "code",
   "execution_count": 19,
   "id": "490a78ee",
   "metadata": {},
   "outputs": [
    {
     "data": {
      "image/png": "[encoded data removed]",
      "text/plain": [
       "<Figure size 720x360 with 1 Axes>"
      ]
     },
     "metadata": {
      "needs_background": "light"
     },
     "output_type": "display_data"
    }
   ],
   "source": [
    "import matplotlib.pyplot as plt\n",
    "\n",
    "# ... (Votre code précédent) ...\n",
    "\n",
    "# Créez une figure pour le cercle de corrélation et la représentation des individus\n",
    "fig, ax = plt.subplots(figsize=(10, 5))\n",
    "\n",
    "# Tracer le cercle de corrélation des variables\n",
    "circle = plt.Circle((0, 0), 1, fill=False, color='black', linestyle='dotted')\n",
    "ax.add_patch(circle)\n",
    "\n",
    "# Tracer les vecteurs propres (composantes principales) avec les noms des variables\n",
    "for i in range(len(composants_principaux)):\n",
    "    x, y = composants_principaux[i, 0], composants_principaux[i, 1]\n",
    "    plt.quiver(0, 0, x, y, angles='xy', scale_units='xy', scale=1, color='b')\n",
    "    plt.text(x, y, labels[i], fontsize=12)\n",
    "\n",
    "# Affichez les individus au sein du cercle de corrélation des variables\n",
    "for i in range(Newdata.shape[0]):\n",
    "    x, y = Newdata.values[i, 0], Newdata.values[i, 1]\n",
    "    plt.scatter(x, y, marker=f\"${i}$\", s=100, color='r', label=f\"Individu {i}\")\n",
    "\n",
    "# Ajoutez des titres et des étiquettes d'axe pour le cercle de corrélation\n",
    "plt.xlabel(\"Axe 1\")\n",
    "plt.ylabel(\"Axe 2\")\n",
    "plt.title(\"Cercle de Corrélation et Représentation des Individus\")\n",
    "\n",
    "# Affichez le graphique\n",
    "plt.legend()\n",
    "plt.grid()\n",
    "plt.show()\n"
   ]
  },
  {
   "cell_type": "code",
   "execution_count": null,
   "id": "f00f4905",
   "metadata": {},
   "outputs": [],
   "source": []
  }
 ],
 "metadata": {
  "kernelspec": {
   "display_name": "Python 3 (ipykernel)",
   "language": "python",
   "name": "python3"
  },
  "language_info": {
   "codemirror_mode": {
    "name": "ipython",
    "version": 3
   },
   "file_extension": ".py",
   "mimetype": "text/x-python",
   "name": "python",
   "nbconvert_exporter": "python",
   "pygments_lexer": "ipython3",
   "version": "3.9.7"
  }
 },
 "nbformat": 4,
 "nbformat_minor": 5
}
